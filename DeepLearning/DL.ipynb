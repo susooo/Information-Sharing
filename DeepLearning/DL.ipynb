#DEEP LEARNING

###강의
* https://www.youtube.com/watch?v=rmVRLeJRkl4&list=PLoROMvodv4rOSH4v6133s9LFPRHjEmbmJ
* https://www.youtube.com/watch?v=dJYGatp4SvA&list=PL5-TkQAfAZFbzxjBHtzdVCWE0Zbhomg7r&ab_channel=MichiganOnline

###블로그
* https://ratsgo.github.io/blog/categories/
* https://herbwood.tistory.com/m/category/Computer%20Vision/Object%20Detection?page=1
* https://woochan-autobiography.tistory.com/m/category/%F0%9F%92%A1%20AI/%ED%86%A0%EC%9D%B4%20%ED%94%84%EB%A1%9C%EC%A0%9D%ED%8A%B8
